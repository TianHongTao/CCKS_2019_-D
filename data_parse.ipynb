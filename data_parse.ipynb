{
 "cells": [
  {
   "cell_type": "code",
   "execution_count": 1,
   "metadata": {},
   "outputs": [],
   "source": [
    "import numpy as np\n",
    "import torch\n",
    "TRAIN_SENTENCE_PATH = \"/Users/denhiroshi/Desktop/关系抽取论文_景丽萍实验室_田宏韬+安书民/CCKS_2019_-D/dataset/sentTrain.txt\"\n",
    "TRAIN_BAG_PATH = \"/Users/denhiroshi/Desktop/关系抽取论文_景丽萍实验室_田宏韬+安书民/CCKS_2019_-D/dataset/bag_relation_train.txt\"\n",
    "DEV_SENTENSE_PATH = \"/Users/denhiroshi/Desktop/关系抽取论文_景丽萍实验室_田宏韬+安书民/CCKS_2019_-D/dataset/sentDev.txt\"\n",
    "DEV_BAG_PATH = \"/Users/denhiroshi/Desktop/关系抽取论文_景丽萍实验室_田宏韬+安书民/CCKS_2019_-D/dataset/bag_relation_dev.txt\"\n",
    "TEST_SENTENSE_PATH = \"/Users/denhiroshi/Desktop/关系抽取论文_景丽萍实验室_田宏韬+安书民/CCKS_2019_-D/dataset/sent_test.txt\"\n",
    "TEST_BAG_PATH = \"/Users/denhiroshi/Desktop/关系抽取论文_景丽萍实验室_田宏韬+安书民/CCKS_2019_-D/dataset/bag_relation_test.txt\"\n",
    "train_Sentense = []\n",
    "train_Bag = []\n",
    "dev_Sentense = []\n",
    "dev_Bag = []\n",
    "test_Sentense = []\n",
    "test_Bag = []"
   ]
  },
  {
   "cell_type": "code",
   "execution_count": 2,
   "metadata": {},
   "outputs": [],
   "source": [
    "class Sentense:\n",
    "    def __init__(self, info, location):\n",
    "        self.personA = info[1]\n",
    "        self.personB = info[2]\n",
    "        self.sentense = info[3].split(\" \")\n",
    "        if location != \"test\":\n",
    "            self.id = int(info[4].split('_')[3])\n",
    "        else:\n",
    "            self.id = int(info[0].split('_')[3])            \n",
    "        if location != \"test\":\n",
    "            self.relation = []\n",
    "            for label in info[5].rstrip().split(\" \"):\n",
    "                self.relation.append(int(label))\n",
    "            \n",
    "class Bag:\n",
    "    def __init__(self, info, location):\n",
    "        self.id = info[0].split('_')[3]\n",
    "        self.personA = info[1]\n",
    "        self.personB = info[2]\n",
    "        self.Sentenses = []\n",
    "        for sen_id in info[3].split(' '):\n",
    "            sen_id = int(sen_id.split(\"_\")[3]) - 1\n",
    "            if location == \"train\":\n",
    "                self.Sentenses.append(train_Sentense[sen_id])\n",
    "            elif location == \"dev\":\n",
    "                self.Sentenses.append(dev_Sentense[sen_id])\n",
    "            elif location == \"test\":\n",
    "                self.Sentenses.append(test_Sentense[sen_id])\n",
    "        if location != \"test\":\n",
    "            self.relation = []\n",
    "            for label in info[4].rstrip().split(\" \"):\n",
    "                self.relation.append(int(label))"
   ]
  },
  {
   "cell_type": "code",
   "execution_count": 3,
   "metadata": {},
   "outputs": [],
   "source": [
    "with open(TRAIN_SENTENCE_PATH) as f:\n",
    "    lines = f.readlines()\n",
    "    for line in lines:\n",
    "        info = line.split(\"\\t\")\n",
    "        tmp = Sentense(info, \"train\")\n",
    "        train_Sentense.append(tmp)"
   ]
  },
  {
   "cell_type": "code",
   "execution_count": 4,
   "metadata": {},
   "outputs": [],
   "source": [
    "with open(TRAIN_BAG_PATH) as f:\n",
    "    lines = f.readlines()\n",
    "    for line in lines:\n",
    "        info = line.split('\\t')\n",
    "        tmp = Bag(info,\"train\")\n",
    "        train_Bag.append(tmp)"
   ]
  },
  {
   "cell_type": "code",
   "execution_count": 5,
   "metadata": {},
   "outputs": [
    {
     "data": {
      "text/plain": [
       "(287351, 37948)"
      ]
     },
     "execution_count": 5,
     "metadata": {},
     "output_type": "execute_result"
    }
   ],
   "source": [
    "len(train_Sentense),len(train_Bag)"
   ]
  },
  {
   "cell_type": "code",
   "execution_count": 6,
   "metadata": {},
   "outputs": [],
   "source": [
    "with open(DEV_SENTENSE_PATH) as f:\n",
    "    lines = f.readlines()\n",
    "    for line in lines:\n",
    "        info = line.split(\"\\t\")\n",
    "        tmp = Sentense(info, \"train\")\n",
    "        dev_Sentense.append(tmp)"
   ]
  },
  {
   "cell_type": "code",
   "execution_count": 7,
   "metadata": {},
   "outputs": [],
   "source": [
    "with open(DEV_BAG_PATH) as f:\n",
    "    lines = f.readlines()\n",
    "    for line in lines:\n",
    "        info = line.split('\\t')\n",
    "        tmp = Bag(info,\"dev\")\n",
    "        dev_Bag.append(tmp)"
   ]
  },
  {
   "cell_type": "code",
   "execution_count": 8,
   "metadata": {},
   "outputs": [
    {
     "data": {
      "text/plain": [
       "(38417, 5416)"
      ]
     },
     "execution_count": 8,
     "metadata": {},
     "output_type": "execute_result"
    }
   ],
   "source": [
    "len(dev_Sentense),len(dev_Bag)"
   ]
  },
  {
   "cell_type": "code",
   "execution_count": 9,
   "metadata": {},
   "outputs": [],
   "source": [
    "with open(TEST_SENTENSE_PATH) as f:\n",
    "    lines = f.readlines()\n",
    "    for line in lines:\n",
    "        info = line.split(\"\\t\")\n",
    "        tmp = Sentense(info, \"test\")\n",
    "        test_Sentense.append(tmp)"
   ]
  },
  {
   "cell_type": "code",
   "execution_count": 10,
   "metadata": {},
   "outputs": [],
   "source": [
    "with open(TEST_BAG_PATH) as f:\n",
    "    lines = f.readlines()\n",
    "    for line in lines:\n",
    "        info = line.split('\\t')\n",
    "        tmp = Bag(info,\"test\")\n",
    "        test_Bag.append(tmp)"
   ]
  },
  {
   "cell_type": "code",
   "execution_count": 11,
   "metadata": {},
   "outputs": [
    {
     "data": {
      "text/plain": [
       "(77092, 10849)"
      ]
     },
     "execution_count": 11,
     "metadata": {},
     "output_type": "execute_result"
    }
   ],
   "source": [
    "len(test_Sentense),len(test_Bag)"
   ]
  },
  {
   "cell_type": "code",
   "execution_count": 12,
   "metadata": {},
   "outputs": [],
   "source": [
    "# 所有切分后的句子，用于训练词向量\n",
    "sentenses = []"
   ]
  },
  {
   "cell_type": "code",
   "execution_count": 13,
   "metadata": {},
   "outputs": [],
   "source": [
    "for Sentense in (train_Sentense+dev_Sentense+test_Sentense):\n",
    "    sentenses.append(Sentense.sentense)"
   ]
  },
  {
   "cell_type": "code",
   "execution_count": 14,
   "metadata": {},
   "outputs": [
    {
     "data": {
      "text/plain": [
       "402860"
      ]
     },
     "execution_count": 14,
     "metadata": {},
     "output_type": "execute_result"
    }
   ],
   "source": [
    "len(sentenses)"
   ]
  },
  {
   "cell_type": "code",
   "execution_count": 16,
   "metadata": {},
   "outputs": [],
   "source": [
    "from gensim.models import Word2Vec \n",
    "model = Word2Vec(sentenses, sg=1, size=200, window=5, min_count=5, negative=3)\n",
    "model.save(\"CCKS_2019\") "
   ]
  },
  {
   "cell_type": "code",
   "execution_count": 17,
   "metadata": {},
   "outputs": [],
   "source": [
    "# model = Word2Vec.load(\"CCKS_2019\")"
   ]
  },
  {
   "cell_type": "code",
   "execution_count": null,
   "metadata": {},
   "outputs": [],
   "source": []
  }
 ],
 "metadata": {
  "kernelspec": {
   "display_name": "Python 3",
   "language": "python",
   "name": "python3"
  },
  "language_info": {
   "codemirror_mode": {
    "name": "ipython",
    "version": 3
   },
   "file_extension": ".py",
   "mimetype": "text/x-python",
   "name": "python",
   "nbconvert_exporter": "python",
   "pygments_lexer": "ipython3",
   "version": "3.7.2"
  }
 },
 "nbformat": 4,
 "nbformat_minor": 2
}
